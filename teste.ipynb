{
 "cells": [
  {
   "cell_type": "code",
   "execution_count": 13,
   "metadata": {},
   "outputs": [],
   "source": [
    "from utils.query_execution import execute_query\n",
    "from pyathena import connect\n",
    "\n",
    "from config.aws_config import AWS_ACESS_KEY, AWS_SECRET_KEY, AWS_REGION, S3_STAGING_DIR\n",
    "\n",
    "query_note = \"SELECT * FROM cleansed.produtividade_decendios\"\n",
    "conn = connect(aws_access_key_id=AWS_ACESS_KEY,\n",
    "            aws_secret_access_key=AWS_SECRET_KEY,\n",
    "            region_name=AWS_REGION,\n",
    "            s3_staging_dir=S3_STAGING_DIR)\n",
    "\n",
    "cursor = conn.cursor()\n",
    "cursor.execute(query_note)\n",
    "\n",
    "col_names = [col[0] for col in cursor.description]\n",
    "results = cursor.fetchall()"
   ]
  },
  {
   "cell_type": "code",
   "execution_count": 2,
   "metadata": {},
   "outputs": [],
   "source": [
    "import os\n",
    "S3_STAGING_DIR = os.getenv('S3_STAGING_DIR') "
   ]
  }
 ],
 "metadata": {
  "kernelspec": {
   "display_name": ".venv",
   "language": "python",
   "name": "python3"
  },
  "language_info": {
   "codemirror_mode": {
    "name": "ipython",
    "version": 3
   },
   "file_extension": ".py",
   "mimetype": "text/x-python",
   "name": "python",
   "nbconvert_exporter": "python",
   "pygments_lexer": "ipython3",
   "version": "3.12.0"
  }
 },
 "nbformat": 4,
 "nbformat_minor": 2
}
